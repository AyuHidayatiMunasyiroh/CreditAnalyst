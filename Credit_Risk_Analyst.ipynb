{
  "nbformat": 4,
  "nbformat_minor": 0,
  "metadata": {
    "colab": {
      "provenance": [],
      "authorship_tag": "ABX9TyONSYWdPyUGoJgoTYdjzKUK",
      "include_colab_link": true
    },
    "kernelspec": {
      "name": "ir",
      "display_name": "R"
    },
    "language_info": {
      "name": "R"
    }
  },
  "cells": [
    {
      "cell_type": "markdown",
      "metadata": {
        "id": "view-in-github",
        "colab_type": "text"
      },
      "source": [
        "<a href=\"https://colab.research.google.com/github/AyuHidayatiMunasyiroh/CreditAnalyst/blob/main/Credit_Risk_Analyst.ipynb\" target=\"_parent\"><img src=\"https://colab.research.google.com/assets/colab-badge.svg\" alt=\"Open In Colab\"/></a>"
      ]
    },
    {
      "cell_type": "markdown",
      "source": [
        "# Credit Risk Analyst\n",
        "\n",
        "Credit Risk Analyst berkebalikan dengan Credit Scoring.\n",
        "\n",
        "*   Credit Scoring : score yang menilai kemampuan peminjam untuk mengembalikan pinjamannya tepat waktu. semakin tinggi score, maka semakin baik atau semakin besar kemampuan peminjam dapat mengembalikan pinjaman. setiap lembaga memiliki cara yang berbeda untuk menghitung score ini (diawasi OJK), namun banyak yang mengadopsi sistem FICO (350-800)\n",
        "\n",
        "*   Credit Risk : Rating / resiko yang dimiliki peminjam untuk tidak dapat mengembalikan pinjamannya atau mengalami default (kegagalan debitur dalam memenuhi kewajibannya sesuai dengan perjanjian atau akad kredit/komitmen lainnya yang ditanda-tangani bersama). rating 1-5 semakin tinggi maka semakin besar resiko defaultnya.\n",
        "\n",
        "Analisis ini menggunakan data yang dapat diunduh melalui :\n",
        "\n",
        "https://storage.googleapis.com/dqlab-dataset/credit_scoring_dqlab.xlsx\n",
        "\n",
        "perlu melakukan install package di bawah ini\n",
        "\n",
        "```\n",
        "install.package (\"openxlsx\")\n",
        "install.package (\"C50\")\n",
        "```\n"
      ],
      "metadata": {
        "id": "LEJQVYWrqqQx"
      }
    },
    {
      "cell_type": "code",
      "execution_count": 2,
      "metadata": {
        "colab": {
          "base_uri": "https://localhost:8080/"
        },
        "id": "RLtddyv4qW_O",
        "outputId": "8806e7b1-6499-41d1-c429-13a1959fdb71"
      },
      "outputs": [
        {
          "output_type": "stream",
          "name": "stderr",
          "text": [
            "Installing package into ‘/usr/local/lib/R/site-library’\n",
            "(as ‘lib’ is unspecified)\n",
            "\n",
            "also installing the dependency ‘Rcpp’\n",
            "\n",
            "\n"
          ]
        }
      ],
      "source": [
        "#Install Packages yang dibutuhkan\n",
        "install.packages(\"openxlsx\")"
      ]
    },
    {
      "cell_type": "code",
      "source": [
        "#Install Packages yang dibutuhkan\n",
        "install.packages(\"C50\")"
      ],
      "metadata": {
        "colab": {
          "base_uri": "https://localhost:8080/"
        },
        "id": "ouNVcQHvrq0B",
        "outputId": "0e2fbe2b-9070-4b34-a51d-826e3a91e11e"
      },
      "execution_count": 12,
      "outputs": [
        {
          "output_type": "stream",
          "name": "stderr",
          "text": [
            "Installing package into ‘/usr/local/lib/R/site-library’\n",
            "(as ‘lib’ is unspecified)\n",
            "\n",
            "also installing the dependencies ‘plyr’, ‘reshape2’, ‘libcoin’, ‘mvtnorm’, ‘Formula’, ‘inum’, ‘Cubist’, ‘partykit’\n",
            "\n",
            "\n"
          ]
        }
      ]
    },
    {
      "cell_type": "markdown",
      "source": [
        "# Overview C50\n",
        "model yang digunakan adalah C5.0\n",
        "dimana kita perlu mempersiapkan variabel input dan variabel class.\n",
        "\n",
        "**variabel input** adalah variabel yang akan digunakan sebagai pertimbangan atau x factor dalam membuat rating\n",
        "\n",
        "**variabel class** adalah variabel rating itu sendiri."
      ],
      "metadata": {
        "id": "uN6glFcmuM4u"
      }
    },
    {
      "cell_type": "markdown",
      "source": [
        "# Mempersiapkan Data\n"
      ],
      "metadata": {
        "id": "h04MKqlsswmK"
      }
    },
    {
      "cell_type": "code",
      "source": [
        "#Memanggil package openxlsx\n",
        "library(\"openxlsx\")\n",
        "\n",
        "#Mempersiapkan data\n",
        "dataCreditRating <- read.xlsx(xlsxFile = \"https://storage.googleapis.com/dqlab-dataset/credit_scoring_dqlab.xlsx\")\n",
        "str(dataCreditRating)\n",
        "\n",
        "#Melakukan konversi kolom risk_rating menjadi factor\n",
        "dataCreditRating$risk_rating <- as.factor(dataCreditRating$risk_rating)\n",
        "\n",
        "#Melihat struktur setelah konversi\n",
        "str(dataCreditRating)"
      ],
      "metadata": {
        "colab": {
          "base_uri": "https://localhost:8080/"
        },
        "id": "29uDz2VHs9f4",
        "outputId": "57117c81-3ae9-4163-c34f-7f8d1f124abf"
      },
      "execution_count": 3,
      "outputs": [
        {
          "output_type": "stream",
          "name": "stdout",
          "text": [
            "'data.frame':\t900 obs. of  7 variables:\n",
            " $ kode_kontrak           : chr  \"AGR-000001\" \"AGR-000011\" \"AGR-000030\" \"AGR-000043\" ...\n",
            " $ pendapatan_setahun_juta: num  295 271 159 210 165 220 70 88 163 100 ...\n",
            " $ kpr_aktif              : chr  \"YA\" \"YA\" \"TIDAK\" \"YA\" ...\n",
            " $ durasi_pinjaman_bulan  : num  48 36 12 12 36 24 36 48 48 36 ...\n",
            " $ jumlah_tanggungan      : num  5 5 0 3 0 5 3 3 5 6 ...\n",
            " $ rata_rata_overdue      : chr  \"61 - 90 days\" \"61 - 90 days\" \"0 - 30 days\" \"46 - 60 days\" ...\n",
            " $ risk_rating            : num  4 4 1 3 2 1 2 2 2 2 ...\n",
            "'data.frame':\t900 obs. of  7 variables:\n",
            " $ kode_kontrak           : chr  \"AGR-000001\" \"AGR-000011\" \"AGR-000030\" \"AGR-000043\" ...\n",
            " $ pendapatan_setahun_juta: num  295 271 159 210 165 220 70 88 163 100 ...\n",
            " $ kpr_aktif              : chr  \"YA\" \"YA\" \"TIDAK\" \"YA\" ...\n",
            " $ durasi_pinjaman_bulan  : num  48 36 12 12 36 24 36 48 48 36 ...\n",
            " $ jumlah_tanggungan      : num  5 5 0 3 0 5 3 3 5 6 ...\n",
            " $ rata_rata_overdue      : chr  \"61 - 90 days\" \"61 - 90 days\" \"0 - 30 days\" \"46 - 60 days\" ...\n",
            " $ risk_rating            : Factor w/ 5 levels \"1\",\"2\",\"3\",\"4\",..: 4 4 1 3 2 1 2 2 2 2 ...\n"
          ]
        }
      ]
    },
    {
      "cell_type": "code",
      "source": [
        "#Mempersiapkan variabel input\n",
        "\n",
        "#Membuat data frame baru yang berisi hanya kolom yang digunakan saja.\n",
        "data_input <- dataCreditRating[, (names(dataCreditRating)%in% c(\"durasi_pinjaman_bulan\",\"jumlah_tanggungan\"))]\n",
        "\n",
        "#atau bisa menggunakan syntax\n",
        "#input_columns <- c(\"durasi_pinjaman_bulan\", \"jumlah_tanggungan\")\n",
        "#dataf_input <- dataCreditRating[, input_columns]\n",
        "\n",
        "str(data_input)"
      ],
      "metadata": {
        "colab": {
          "base_uri": "https://localhost:8080/"
        },
        "id": "AnZVx1o-uHAG",
        "outputId": "1f1cda50-5c3f-4008-c0b5-54629ff2137f"
      },
      "execution_count": 6,
      "outputs": [
        {
          "output_type": "stream",
          "name": "stdout",
          "text": [
            "'data.frame':\t900 obs. of  2 variables:\n",
            " $ durasi_pinjaman_bulan: num  48 36 12 12 36 24 36 48 48 36 ...\n",
            " $ jumlah_tanggungan    : num  5 5 0 3 0 5 3 3 5 6 ...\n"
          ]
        }
      ]
    },
    {
      "cell_type": "markdown",
      "source": [
        "# Membuat data Training dan Testing pada Variabel Input\n",
        "Total observasi yang dimiliki adalah sebanyak 900 obs, 800 akan digunakan sebagai data training dan 100 digunakan sebagai data testing.\n",
        "\n",
        "*Membuat data seed terlebih dahulu*\n",
        "\n",
        "\n",
        "```\n",
        "set.seed(100)\n",
        "indeks_data_training <- sample(900, 800)\n",
        "```\n",
        "\n",
        "set.seed adalah perintah untuk menyeragamkan bilangan acak yang muncul pada R.\n",
        "sample(900,800) mengambil 800 observasi dari 900 observasi untuk dijadikan sebagai data training\n",
        "\n"
      ],
      "metadata": {
        "id": "1MBtMsf-wKk7"
      }
    },
    {
      "cell_type": "code",
      "source": [
        "#Mempersiapkan porsi index acak untuk training dan testing set\n",
        "set.seed(100)\n",
        "indeks_data_training <- sample(900,800)\n",
        "\n",
        "#Membuat dan menampilkan training set dan testing set\n",
        "input_data_training <- data_input[indeks_data_training,]\n",
        "class_data_training <- dataCreditRating[indeks_data_training,]$risk_rating\n",
        "input_data_testing <- data_input[-indeks_data_training,]\n",
        "\n",
        "str(input_data_training)\n",
        "str(class_data_training)\n",
        "str(input_data_testing)"
      ],
      "metadata": {
        "colab": {
          "base_uri": "https://localhost:8080/"
        },
        "id": "2um2Mz_exXLR",
        "outputId": "ff6e603d-890d-4338-986f-214b044c125a"
      },
      "execution_count": 8,
      "outputs": [
        {
          "output_type": "stream",
          "name": "stdout",
          "text": [
            "'data.frame':\t800 obs. of  2 variables:\n",
            " $ durasi_pinjaman_bulan: num  36 24 36 36 36 24 12 48 48 12 ...\n",
            " $ jumlah_tanggungan    : num  1 1 5 1 5 3 3 3 0 0 ...\n",
            " Factor w/ 5 levels \"1\",\"2\",\"3\",\"4\",..: 1 1 4 1 5 3 3 3 2 1 ...\n",
            "'data.frame':\t100 obs. of  2 variables:\n",
            " $ durasi_pinjaman_bulan: num  12 36 48 36 48 48 12 12 12 12 ...\n",
            " $ jumlah_tanggungan    : num  0 0 3 3 6 5 0 0 0 4 ...\n"
          ]
        }
      ]
    },
    {
      "cell_type": "markdown",
      "source": [
        "# Menghasilkan Model dengan C50\n",
        "\n",
        "Syntax penggunaan fungsi C5.0 adalah sebagai berikut:\n",
        "\n",
        "`C5.0(input_variables, class_variables)`\n"
      ],
      "metadata": {
        "id": "uautHT4wyOmc"
      }
    },
    {
      "cell_type": "code",
      "source": [
        "#Memanggil package C5.0\n",
        "library(\"C50\")\n",
        "\n",
        "#menghasilkan model dan menampilkan summary model\n",
        "risk_rating_model <- C5.0(input_data_training, class_data_training)\n",
        "summary(risk_rating_model)\n",
        "\n",
        "#Membuat plot decision tree\n",
        "plot(risk_rating_model)"
      ],
      "metadata": {
        "colab": {
          "base_uri": "https://localhost:8080/",
          "height": 1000
        },
        "id": "5BhTHeGVycBm",
        "outputId": "9a0aec50-be00-4cb4-c668-a2497644b922"
      },
      "execution_count": 14,
      "outputs": [
        {
          "output_type": "display_data",
          "data": {
            "text/plain": [
              "\n",
              "Call:\n",
              "C5.0.default(x = input_data_training, y = class_data_training)\n",
              "\n",
              "\n",
              "C5.0 [Release 2.07 GPL Edition]  \tWed Oct  4 04:06:15 2023\n",
              "-------------------------------\n",
              "\n",
              "Class specified by attribute `outcome'\n",
              "\n",
              "Read 800 cases (3 attributes) from undefined.data\n",
              "\n",
              "Decision tree:\n",
              "\n",
              "jumlah_tanggungan > 4:\n",
              ":...durasi_pinjaman_bulan <= 24: 4 (105/30)\n",
              ":   durasi_pinjaman_bulan > 24: 5 (120/51)\n",
              "jumlah_tanggungan <= 4:\n",
              ":...jumlah_tanggungan > 2: 3 (216/20)\n",
              "    jumlah_tanggungan <= 2:\n",
              "    :...durasi_pinjaman_bulan <= 36: 1 (264/80)\n",
              "        durasi_pinjaman_bulan > 36:\n",
              "        :...jumlah_tanggungan <= 0: 2 (37/7)\n",
              "            jumlah_tanggungan > 0: 3 (58/4)\n",
              "\n",
              "\n",
              "Evaluation on training data (800 cases):\n",
              "\n",
              "\t    Decision Tree   \n",
              "\t  ----------------  \n",
              "\t  Size      Errors  \n",
              "\n",
              "\t     6  192(24.0%)   <<\n",
              "\n",
              "\n",
              "\t   (a)   (b)   (c)   (d)   (e)    <-classified as\n",
              "\t  ----  ----  ----  ----  ----\n",
              "\t   184     2     5     6     6    (a): class 1\n",
              "\t    80    30    19     6    11    (b): class 2\n",
              "\t           3   250                (c): class 3\n",
              "\t           2          75    34    (d): class 4\n",
              "\t                      18    69    (e): class 5\n",
              "\n",
              "\n",
              "\tAttribute usage:\n",
              "\n",
              "\t100.00%\tjumlah_tanggungan\n",
              "\t 73.00%\tdurasi_pinjaman_bulan\n",
              "\n",
              "\n",
              "Time: 0.0 secs\n"
            ]
          },
          "metadata": {}
        },
        {
          "output_type": "display_data",
          "data": {
            "text/plain": [
              "plot without title"
            ],
            "image/png": "[encoded data removed]"
          },
          "metadata": {
            "image/png": {
              "width": 420,
              "height": 420
            }
          }
        }
      ]
    },
    {
      "cell_type": "markdown",
      "source": [
        "Interpretasi hasil\n",
        "model C5.0 menghasilkan decision tree dimana dihasilkan 6 Node\n",
        "\n",
        "*   **Jumlah Tanggungan > 4 dan durasi pinjaman <= 24 bulan** terdapat 105 data, dengan 30 data salah. Rating 4\n",
        "*   **Jumlah tanggungan > 4 dan durasi pinjaman > 24 bulan** terdapat 120 data, dengan 51 data salah. Rating 5\n",
        "*   **Jumlah tanggungan <= 4 dan >2** terdapat 216 data, dengan 20 data salah. Rating 3\n",
        "*   **Jumlah tanggungan <= 4 dan <= 2 dan durasi pinjaman <= 36** terdapat 264 data, dengan 80 data salah. Rating 1\n",
        "*   **Jumlah tanggungan 0 dan durasi pinjaman > 36** terdapat 37 data, dengan 7 data salah. Rating 2\n",
        "*   **Jumlah tanggungan 1,2 dan durasi pinjaman > 36** terdapat 58 data, dengan 4 data salah. Rating 3\n",
        "\n",
        "presentase kesalahan model adalah 24%\n",
        "\n",
        "Confussion matrix menghasilkan matrix data yang seharusnya masuk rating 1 dan benar diberikan rating 1, masuk rating 1 tetapi diberikan rating lainnya dan lain-lain. hasilnya akan sama dengan list di atas.\n",
        "\n",
        "bar chart di leaf node merupakan grafik batang yang menggambarkan persentase rating dengan nilai yang benar-benar dimasukkan. misalkan pada leafnode 1, terdapat 70% data yang benar masuk pada rating 1, dan 30% data yang salah di rating 2.\n"
      ],
      "metadata": {
        "id": "3xc7vnCG12bb"
      }
    }
  ]
}